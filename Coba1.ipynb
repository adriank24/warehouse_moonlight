{
 "cells": [
  {
   "cell_type": "code",
   "execution_count": 1,
   "metadata": {},
   "outputs": [
    {
     "name": "stdout",
     "output_type": "stream",
     "text": [
      "{'statusCode': 200, 'data': {'vessels': [{'_id': '5f9fc09016ffd32a3cbc3132', 'mmsi': '240391000', 'lat': -6.034939, 'lon': 106.823553, 'speed': 10, 'heading': 250, 'course': 288, 'status': 0, 'timestamp': '2016-04-18T12:21:00.000Z', 'ship_category': {'name': 'Public'}, 'data_source': 'Kijang2'}, {'_id': '5faa44851e22b2ae551b6788', 'mmsi': '240391001', 'lat': -5.720038, 'lon': 106.838088, 'speed': 10, 'heading': 250, 'course': 288, 'status': 0, 'timestamp': '2016-04-18T12:21:00.000Z', 'ship_category': {'name': 'Public'}, 'data_source': 'Kijang 1'}, {'_id': '5faa452f1e22b2ae551b6789', 'mmsi': '244271000', 'lat': -5.538245, 'lon': 106.442499, 'speed': 10, 'heading': 250, 'course': 288, 'status': 0, 'timestamp': '2016-04-18T12:21:00.000Z', 'ship_category': {'name': 'Public'}, 'data_source': 'Kijang 3'}]}}\n"
     ]
    }
   ],
   "source": [
    "import requests\n",
    "import json\n",
    "sauce = 'https://marinetrafficindonesia.herokuapp.com/public/vessels?minlat=-10&maxlat=10&minlon=100&maxlon=110&category=5faa5db5ec638f36484ce389'\n",
    "r = requests.get(sauce)\n",
    "json_data=json.loads(r.text)\n",
    "print(json_data)"
   ]
  },
  {
   "cell_type": "code",
   "execution_count": 2,
   "metadata": {},
   "outputs": [
    {
     "name": "stdout",
     "output_type": "stream",
     "text": [
      "b'{\"statusCode\":200,\"data\":{\"vessels\":[{\"_id\":\"5f9fc09016ffd32a3cbc3132\",\"mmsi\":\"240391000\",\"lat\":-6.034939,\"lon\":106.823553,\"speed\":10,\"heading\":250,\"course\":288,\"status\":0,\"timestamp\":\"2016-04-18T12:21:00.000Z\",\"ship_category\":{\"name\":\"Public\"},\"data_source\":\"Kijang2\"},{\"_id\":\"5faa44851e22b2ae551b6788\",\"mmsi\":\"240391001\",\"lat\":-5.720038,\"lon\":106.838088,\"speed\":10,\"heading\":250,\"course\":288,\"status\":0,\"timestamp\":\"2016-04-18T12:21:00.000Z\",\"ship_category\":{\"name\":\"Public\"},\"data_source\":\"Kijang 1\"},{\"_id\":\"5faa452f1e22b2ae551b6789\",\"mmsi\":\"244271000\",\"lat\":-5.538245,\"lon\":106.442499,\"speed\":10,\"heading\":250,\"course\":288,\"status\":0,\"timestamp\":\"2016-04-18T12:21:00.000Z\",\"ship_category\":{\"name\":\"Public\"},\"data_source\":\"Kijang 3\"}]}}'\n"
     ]
    }
   ],
   "source": [
    "import requests\n",
    "\n",
    "def get_stream(url):\n",
    "    s = requests.Session()\n",
    "\n",
    "    with s.get(url, headers=None, stream=True) as resp:\n",
    "        for line in resp.iter_lines():\n",
    "            if line:\n",
    "                print(line)\n",
    "\n",
    "url = 'https://marinetrafficindonesia.herokuapp.com/public/vessels?minlat=-10&maxlat=10&minlon=100&maxlon=110&category=5faa5db5ec638f36484ce389'\n",
    "get_stream(url)"
   ]
  },
  {
   "cell_type": "code",
   "execution_count": null,
   "metadata": {},
   "outputs": [],
   "source": []
  }
 ],
 "metadata": {
  "kernelspec": {
   "display_name": "Python 3",
   "language": "python",
   "name": "python3"
  },
  "language_info": {
   "codemirror_mode": {
    "name": "ipython",
    "version": 3
   },
   "file_extension": ".py",
   "mimetype": "text/x-python",
   "name": "python",
   "nbconvert_exporter": "python",
   "pygments_lexer": "ipython3",
   "version": "3.7.0b2"
  }
 },
 "nbformat": 4,
 "nbformat_minor": 2
}
